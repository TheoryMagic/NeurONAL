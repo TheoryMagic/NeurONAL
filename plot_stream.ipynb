{
 "cells": [
  {
   "cell_type": "code",
   "execution_count": null,
   "metadata": {},
   "outputs": [],
   "source": [
    "import matplotlib.pyplot as plt\n",
    "import pandas as pd\n",
    "import numpy as np\n",
    "\n",
    "datasets = ['adult', 'letter', 'fashion', 'covertype', 'shuttle', 'MagicTelescope']\n",
    "data_names = ['Adult', 'Letter', 'Fashion', 'Covertype', 'Shuttle', 'MagicTelescope']\n",
    "methods = ['neuronal', 'margin', 'ineural', 'neual_ntk', 'alps']\n",
    "colors = ['red', 'blue', 'green', 'orange', 'purple']\n",
    "input_dir = 'results/'\n",
    "output_dir = 'graphs'\n",
    "extension = '_res.txt'\n",
    "\n",
    "col_names = ['rounds', 'query_num', 'bud_percent', 'num_epochs', 'regret']"
   ]
  },
  {
   "cell_type": "code",
   "execution_count": null,
   "metadata": {},
   "outputs": [],
   "source": [
    "def plot_dataset(d,n):\n",
    "    for i in range(len(methods)):\n",
    "            f_name = input_dir + d + '/' + methods[i] + extension\n",
    "\n",
    "            f = pd.read_csv(f_name, header=None, nrows=10000)\n",
    "            f.columns = col_names\n",
    "\n",
    "            #x = f['query_num']\n",
    "            x = range(f['regret'].size)\n",
    "            plt.plot(x, f['regret'], color=colors[i], linewidth=2.0, label=methods[i])\n",
    "\n",
    "    plt.legend()\n",
    "    plt.xlabel('Rounds')\n",
    "    plt.ylabel('Regret')\n",
    "    plt.title([f'{d}'])\n",
    "    plt.savefig(f'{output_dir}/{d}_results.png')\n",
    "    plt.figure().clear()"
   ]
  },
  {
   "cell_type": "code",
   "execution_count": null,
   "metadata": {},
   "outputs": [],
   "source": [
    "for d,n in zip(datasets, data_names):\n",
    "    plot_dataset(d, n)"
   ]
  }
 ],
 "metadata": {
  "language_info": {
   "name": "python"
  },
  "orig_nbformat": 4
 },
 "nbformat": 4,
 "nbformat_minor": 2
}
