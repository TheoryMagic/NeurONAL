{
 "cells": [
  {
   "cell_type": "code",
   "execution_count": null,
   "metadata": {},
   "outputs": [],
   "source": [
    "import matplotlib.pyplot as plt\n",
    "import pandas as pd\n",
    "import numpy as np\n",
    "\n",
    "datasets = ['adult', 'letter', 'fashion', 'covertype', 'shuttle', 'MagicTelescope']\n",
    "data_names = ['Adult', 'Letter', 'Fashion', 'Covertype', 'Shuttle', 'MagicTelescope']\n",
    "methods = ['NeurONAL-Pool', 'BADGE', 'Coreset', 'dynamicAL']#, 'Random']\n",
    "colors = ['red', 'blue', 'green', 'orange', 'purple']\n",
    "linestyle = ['solid', 'dashed', 'dashed', 'dashed', 'dashed']\n",
    "input_dir = 'results/'\n",
    "output_dir = 'graphs'\n",
    "extension = '_res.txt'"
   ]
  },
  {
   "cell_type": "code",
   "execution_count": null,
   "metadata": {},
   "outputs": [],
   "source": [
    "def plot_dataset(d, n):\n",
    "    for i in range(len(methods)):\n",
    "        f_name = input_dir + d + '/' + methods[i] + extension\n",
    "\n",
    "        with open(f_name, 'r') as f:\n",
    "            vals = f.readlines()\n",
    "        vals = [float(v[:-1]) for v in vals]\n",
    "        vals = vals[:10]\n",
    "\n",
    "        #x = f['query_num']\n",
    "        x = range(len(vals))\n",
    "        plt.plot(x, vals, linestyle=linestyle[i], color=colors[i], linewidth=2.0, label=methods[i])\n",
    "\n",
    "    plt.legend()\n",
    "    plt.xlabel('Query Rounds')\n",
    "    plt.ylabel('Testing Accuracy (%)')\n",
    "    plt.title(f'{n}')\n",
    "    plt.savefig(f'{output_dir}/{d}_pool_results.png')\n",
    "    plt.figure().clear()"
   ]
  },
  {
   "cell_type": "code",
   "execution_count": null,
   "metadata": {},
   "outputs": [],
   "source": [
    "for d,n in zip(datasets, data_names):\n",
    "    plot_dataset(d, n)"
   ]
  }
 ],
 "metadata": {
  "kernelspec": {
   "display_name": "Python 3",
   "language": "python",
   "name": "python3"
  },
  "language_info": {
   "codemirror_mode": {
    "name": "ipython",
    "version": 3
   },
   "file_extension": ".py",
   "mimetype": "text/x-python",
   "name": "python",
   "nbconvert_exporter": "python",
   "pygments_lexer": "ipython3",
   "version": "3.7.14"
  },
  "orig_nbformat": 4
 },
 "nbformat": 4,
 "nbformat_minor": 2
}
